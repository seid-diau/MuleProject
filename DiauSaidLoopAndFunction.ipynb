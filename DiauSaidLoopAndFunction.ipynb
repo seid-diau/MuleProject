{
  "nbformat": 4,
  "nbformat_minor": 0,
  "metadata": {
    "colab": {
      "provenance": [],
      "authorship_tag": "ABX9TyPsI1ENIJGnQNWUEJZLDJbL",
      "include_colab_link": true
    },
    "kernelspec": {
      "name": "python3",
      "display_name": "Python 3"
    },
    "language_info": {
      "name": "python"
    }
  },
  "cells": [
    {
      "cell_type": "markdown",
      "metadata": {
        "id": "view-in-github",
        "colab_type": "text"
      },
      "source": [
        "<a href=\"https://colab.research.google.com/github/seid-diau/MuleProject/blob/main/DiauSaidLoopAndFunction.ipynb\" target=\"_parent\"><img src=\"https://colab.research.google.com/assets/colab-badge.svg\" alt=\"Open In Colab\"/></a>"
      ]
    },
    {
      "cell_type": "markdown",
      "source": [
        "# ***FUNCTIONS AND LOOPS ASSIGNMNET, DUE ON WEDNESDAY, JULY 5TH, 2023***\\"
      ],
      "metadata": {
        "id": "XbZ3nhXwuE4c"
      }
    },
    {
      "cell_type": "markdown",
      "source": [
        "*factorial is the product of positive integer and all the integers below it; e.g. factorial four ( 4! ) is equal to 24.*"
      ],
      "metadata": {
        "id": "KsGIsp7Su5g5"
      }
    },
    {
      "cell_type": "code",
      "execution_count": 66,
      "metadata": {
        "id": "tJKB1jM5t8ha"
      },
      "outputs": [],
      "source": [
        "# Write a function to calculate the factorial of a number.\n",
        "\n",
        "def factorial(num):\n",
        "  x=1\n",
        "  if num <= 1 :\n",
        "    return 0\n",
        "  else :\n",
        "    global i\n",
        "    for i in range(2,num+1) :\n",
        "      x  = x* (i-1)\n",
        "  return (x*i)\n",
        "# we call also use recursive function to solve factorial and it is the effiecent  way\n",
        "def factorials(n):\n",
        "    if n == 0:\n",
        "        return 1\n",
        "    else:\n",
        "        return n * factorials(n - 1)\n",
        "\n",
        "\n"
      ]
    },
    {
      "cell_type": "markdown",
      "source": [
        "Question 2: Write a function to check if a number is prime.\n",
        "prime number is  whole number greater than 1 that cannot be exactly divided by any whole number other than itself and 1 (e.g. 2, 3, 5, 7, 11)."
      ],
      "metadata": {
        "id": "ew50GD4u4QML"
      }
    },
    {
      "cell_type": "code",
      "source": [
        "def prime_Checker(n):\n",
        "  # this statement will check if the n is any integer less than 2 if\n",
        "  if n<2:\n",
        "    return \"not a prime\"\n",
        "  for i in range(2,int(n/2)):\n",
        "       if n%i == 0:\n",
        "         return(\" not a prime \")\n",
        "  return(\"is prime\")\n",
        "\n",
        "\n",
        ""
      ],
      "metadata": {
        "id": "pqIEeD6r05cL"
      },
      "execution_count": 106,
      "outputs": []
    },
    {
      "cell_type": "markdown",
      "source": [
        "Question 3: Write a function to reverse a string.\n",
        "\n",
        "\n"
      ],
      "metadata": {
        "id": "OIyh_MM6AhCQ"
      }
    },
    {
      "cell_type": "code",
      "source": [
        "def reverse_str(str):\n",
        "  reverse_string=\"\"\n",
        "  for i in range(len(str)):\n",
        "    reverse_string=reverse_string + str[len(str)-(i+1)]\n",
        "  return(reverse_string)\n",
        "#  we can always use python builtin slice method\n",
        "def reverse_string(s):\n",
        "    return s[::-1]"
      ],
      "metadata": {
        "id": "wHZj8_j6vvL7"
      },
      "execution_count": 13,
      "outputs": []
    },
    {
      "cell_type": "markdown",
      "source": [
        "Question 4: Write a function to calculate the sum of all elements in a list."
      ],
      "metadata": {
        "id": "QUQBm6BXEZQu"
      }
    },
    {
      "cell_type": "code",
      "source": [
        "def sum_list(l):\n",
        "  sum=0\n",
        "  for i in l :\n",
        "    sum = sum+ i\n",
        "  return sum\n",
        "#  we can use builtin sum function\n",
        "def sum_list(lst):\n",
        "    return sum(lst)"
      ],
      "metadata": {
        "id": "sCUcJbBq-i1E"
      },
      "execution_count": 153,
      "outputs": []
    },
    {
      "cell_type": "markdown",
      "source": [
        "Question 5: Write a function to check if a number is even.\n",
        "\n"
      ],
      "metadata": {
        "id": "OIEBKAnKFZMT"
      }
    },
    {
      "cell_type": "code",
      "source": [
        "def even_number(n):\n",
        "  if n%2 ==0 :\n",
        "    return (f\"{n} is even\")\n",
        "  else:\n",
        "    return (f\"{n} not even\")\n"
      ],
      "metadata": {
        "id": "pU_jvyKUvws8"
      },
      "execution_count": 159,
      "outputs": []
    },
    {
      "cell_type": "markdown",
      "source": [
        "Question 6: Write a function to find the maximum number in a list."
      ],
      "metadata": {
        "id": "5XB8ryvKGNc5"
      }
    },
    {
      "cell_type": "code",
      "source": [
        "def max_list(l):\n",
        "  return (max(l))"
      ],
      "metadata": {
        "id": "jTCO8QpWvyIB"
      },
      "execution_count": 1,
      "outputs": []
    },
    {
      "cell_type": "markdown",
      "source": [
        "Question 7: Write a function to count the number of vowels in a string."
      ],
      "metadata": {
        "id": "TkO6aiGMQLCB"
      }
    },
    {
      "cell_type": "code",
      "source": [
        "def vowel_counter(str):\n",
        "  count = 0\n",
        "  for i in str.lower() :\n",
        "    if i in [\"a\",\"e\",\"i\",\"o\",\"u\"]:\n",
        "      count+=1\n",
        "  return count"
      ],
      "metadata": {
        "id": "A2Yd4QfVvz7b"
      },
      "execution_count": 8,
      "outputs": []
    },
    {
      "cell_type": "code",
      "source": [
        "vowel_counter(\"Hellowettrtrteoeeigio\")"
      ],
      "metadata": {
        "colab": {
          "base_uri": "https://localhost:8080/"
        },
        "id": "N5dGO_z8v69o",
        "outputId": "98efd502-788a-4344-c7f3-acee7ed0efeb"
      },
      "execution_count": 10,
      "outputs": [
        {
          "output_type": "execute_result",
          "data": {
            "text/plain": [
              "10"
            ]
          },
          "metadata": {},
          "execution_count": 10
        }
      ]
    },
    {
      "cell_type": "markdown",
      "source": [
        "Question 8: Write a function to check if a string is a palindrome"
      ],
      "metadata": {
        "id": "Zz7-g0SXQ_Wi"
      }
    },
    {
      "cell_type": "code",
      "source": [
        "def str_palin(str):\n",
        "  return str == reverse_str(str)\n",
        "\n"
      ],
      "metadata": {
        "id": "jpviXhqCv9ca"
      },
      "execution_count": 19,
      "outputs": []
    },
    {
      "cell_type": "code",
      "source": [
        "str_palin(\"madam\")"
      ],
      "metadata": {
        "colab": {
          "base_uri": "https://localhost:8080/"
        },
        "id": "NhgQIi5Yv-hg",
        "outputId": "145907d3-9eb8-4df7-de6b-e9a35c408d10"
      },
      "execution_count": 21,
      "outputs": [
        {
          "output_type": "execute_result",
          "data": {
            "text/plain": [
              "True"
            ]
          },
          "metadata": {},
          "execution_count": 21
        }
      ]
    },
    {
      "cell_type": "markdown",
      "source": [
        "Question 9: Write a function to remove duplicates from a list.\n",
        "\n"
      ],
      "metadata": {
        "id": "GtyLJU3ESf6q"
      }
    },
    {
      "cell_type": "code",
      "source": [
        "def remove_duplicate(l):\n",
        "  return  list(set(l))\n",
        "\n"
      ],
      "metadata": {
        "id": "TGu1RgRkv__D"
      },
      "execution_count": 1,
      "outputs": []
    },
    {
      "cell_type": "markdown",
      "source": [
        "Question 10: Write a loop to print the Pascal's triangle.\n",
        "\n"
      ],
      "metadata": {
        "id": "Xxm_uQcMDMsx"
      }
    },
    {
      "cell_type": "code",
      "source": [
        "def pascal_triangle(num_of_rows):\n",
        "\n",
        "  pascals_triangle=[]\n",
        "  ledingspace=\" \"\n",
        "\n",
        "  for i in range(num_of_rows):\n",
        "      row1 =[1]\n",
        "\n",
        "\n",
        "      if len(pascals_triangle) >= 1:\n",
        "\n",
        "          add_row = pascals_triangle[-1]\n",
        "\n",
        "          for j in range(len(add_row) - 1):\n",
        "\n",
        "              row1.append(add_row[j]+ add_row[j+1])\n",
        "          row1.append(1)\n",
        "\n",
        "      pascals_triangle.append(row1)\n",
        "\n",
        "      for i ,items in enumerate(pascals_triangle):\n",
        "\n",
        "              x =    \"   \".join(str(item) for item in items)\n",
        "              y =ledingspace* (rows-i) + x\n",
        "      print(y)\n",
        "\n",
        "\n",
        "\n",
        ""
      ],
      "metadata": {
        "id": "GmQb6M0uGGL0"
      },
      "execution_count": 19,
      "outputs": []
    },
    {
      "cell_type": "code",
      "source": [
        "pascal_triangle(5)"
      ],
      "metadata": {
        "colab": {
          "base_uri": "https://localhost:8080/"
        },
        "id": "bgebvgLsRwWl",
        "outputId": "283c2cd8-b447-4b46-ef1c-6a9f1597e0a0"
      },
      "execution_count": 20,
      "outputs": [
        {
          "output_type": "stream",
          "name": "stdout",
          "text": [
            "          1\n",
            "         1   1\n",
            "        1   2   1\n",
            "       1   3   3   1\n",
            "      1   4   6   4   1\n"
          ]
        }
      ]
    },
    {
      "cell_type": "markdown",
      "source": [
        "for row in pascal_triangle:\n",
        "    print(\" \".join(str(num) for num in row))"
      ],
      "metadata": {
        "id": "mTlABpj9HYjt"
      }
    },
    {
      "cell_type": "markdown",
      "source": [
        "Question 11: Write a loop to print numbers from 1 to 10.\n",
        "\n"
      ],
      "metadata": {
        "id": "H4Na3z0WGjai"
      }
    },
    {
      "cell_type": "code",
      "source": [
        "for i in range (1,11):\n",
        "  print(i)"
      ],
      "metadata": {
        "colab": {
          "base_uri": "https://localhost:8080/"
        },
        "id": "sIc5b-nlDA67",
        "outputId": "b1453aca-8e00-4672-a82e-c86e13b5bae3"
      },
      "execution_count": 3,
      "outputs": [
        {
          "output_type": "stream",
          "name": "stdout",
          "text": [
            "1\n",
            "2\n",
            "3\n",
            "4\n",
            "5\n",
            "6\n",
            "7\n",
            "8\n",
            "9\n",
            "10\n"
          ]
        }
      ]
    },
    {
      "cell_type": "markdown",
      "source": [
        "Question 12: Write a function to find the square root of a number."
      ],
      "metadata": {
        "id": "RfhkVL0sGyhj"
      }
    },
    {
      "cell_type": "code",
      "source": [
        "#not completed square root\n",
        "# def square_roots(n):\n",
        "#   square_mul = []\n",
        "#   for i in range(2,n):\n",
        "#     if n%i==0 :\n",
        "#       square_mul.append(i)\n",
        "#     else :\n",
        "#       0\n",
        "#   print(square_mul)\n",
        "import math\n",
        "\n",
        "def square_root(n):\n",
        "    return math.sqrt(n)\n",
        "\n"
      ],
      "metadata": {
        "id": "E37kG9xuGtKn"
      },
      "execution_count": 43,
      "outputs": []
    },
    {
      "cell_type": "code",
      "source": [
        "square_root()"
      ],
      "metadata": {
        "colab": {
          "base_uri": "https://localhost:8080/"
        },
        "id": "1HIpt3YdRH5P",
        "outputId": "5552dedd-ed79-47d4-97f7-c2b72e57982b"
      },
      "execution_count": 44,
      "outputs": [
        {
          "output_type": "execute_result",
          "data": {
            "text/plain": [
              "3.1622776601683795"
            ]
          },
          "metadata": {},
          "execution_count": 44
        }
      ]
    },
    {
      "cell_type": "markdown",
      "source": [
        "Question 13: Write a function to check if a string is a pangram.\n",
        "\n"
      ],
      "metadata": {
        "id": "okGVosCRH4Ki"
      }
    },
    {
      "cell_type": "code",
      "source": [
        "def is_pangram(str):\n",
        "  set_of_alpha =set()\n",
        "  alphabet = {\"a\",\"b\",\"c\",\"d\",\"e\",\"f\",'g','h',\"i\",\"j\",'k',\"l\",'m',\"n\",'o','p','q','r','s','t','u','v','w','x','y','z'}\n",
        "\n",
        "  for i in str:\n",
        "    if i.isalpha():\n",
        "      set_of_alpha.add(i.lower())\n",
        "  return set_of_alpha == alphabet\n",
        "\n"
      ],
      "metadata": {
        "id": "G3LH7GI4HFeq"
      },
      "execution_count": 28,
      "outputs": []
    },
    {
      "cell_type": "code",
      "source": [
        "is_pangram(\"The quick brown fox jumps over the reDSDAD_FDSFDSF 2222323 dfds98706432150!@#$%^&*() sasasas la dog\")"
      ],
      "metadata": {
        "colab": {
          "base_uri": "https://localhost:8080/"
        },
        "id": "IePDdl74HG7J",
        "outputId": "c050e93b-b52a-45e4-8c2b-eab1895d02b0"
      },
      "execution_count": 56,
      "outputs": [
        {
          "output_type": "execute_result",
          "data": {
            "text/plain": [
              "False"
            ]
          },
          "metadata": {},
          "execution_count": 56
        }
      ]
    },
    {
      "cell_type": "markdown",
      "source": [
        "Question 14: Write a function to check if two strings are anagrams."
      ],
      "metadata": {
        "id": "gFy-3pTXPdNu"
      }
    },
    {
      "cell_type": "code",
      "source": [
        "def is_anagrams(str1,str2):\n",
        "\n",
        "  a = str1.replace(\" \",\"\")\n",
        "  b = str2.replace(\" \",\"\")\n",
        "  print(a)\n",
        "\n",
        "  return sorted(a.lower())== sorted(b.lower())\n",
        "\n",
        "\n"
      ],
      "metadata": {
        "id": "Na2hq7POJLdc"
      },
      "execution_count": 71,
      "outputs": []
    },
    {
      "cell_type": "markdown",
      "source": [
        "Question 15: Write a function to convert a string to title case.\n",
        "\n"
      ],
      "metadata": {
        "id": "M7he3U1hTYoD"
      }
    },
    {
      "cell_type": "code",
      "source": [
        "def change_to_title(str):\n",
        "  return str.title()"
      ],
      "metadata": {
        "id": "sSxGniqtTHcU"
      },
      "execution_count": 82,
      "outputs": []
    },
    {
      "cell_type": "markdown",
      "source": [
        "Question 16: Write a function to find the length of the longest word in a sentence."
      ],
      "metadata": {
        "id": "nbDNHIuZUlhy"
      }
    },
    {
      "cell_type": "code",
      "source": [
        "def longest_word (sen):\n",
        "  words= sen.split(\" \")\n",
        "  leng=[]\n",
        "  for j ,i in enumerate(words):\n",
        "    leng.append(i)\n",
        "    if len(i) >= len(leng[j-1]) :\n",
        "      longest = i\n",
        "  return longest\n"
      ],
      "metadata": {
        "id": "YlTWl3EvQGJb"
      },
      "execution_count": 101,
      "outputs": []
    },
    {
      "cell_type": "markdown",
      "source": [
        "Question 17: Write a function to find the common elements between two lists."
      ],
      "metadata": {
        "id": "2XWx5XP7j0rw"
      }
    },
    {
      "cell_type": "code",
      "source": [
        "def common_element(list1,list2):\n",
        "   comm=[]\n",
        "   for i in list1:\n",
        "    for j in list2:\n",
        "      if i == j :\n",
        "        comm.append(i)\n",
        "\n",
        "   return (comm)\n",
        "# this could also be done using intersaction of a set\n",
        "def common_elements(lst1, lst2):\n",
        "    return list(set(lst1) & set(lst2))\n",
        ""
      ],
      "metadata": {
        "id": "Rzi4Q8OwVG36"
      },
      "execution_count": 219,
      "outputs": []
    },
    {
      "cell_type": "code",
      "source": [
        "common_element([1,2,3,4],[2,3,6,1,7])"
      ],
      "metadata": {
        "colab": {
          "base_uri": "https://localhost:8080/"
        },
        "id": "yuQOmGFLkj5F",
        "outputId": "e3acae18-e700-437a-80bb-42078aacfc5d"
      },
      "execution_count": 224,
      "outputs": [
        {
          "output_type": "execute_result",
          "data": {
            "text/plain": [
              "[1, 2, 3]"
            ]
          },
          "metadata": {},
          "execution_count": 224
        }
      ]
    },
    {
      "cell_type": "markdown",
      "source": [
        "Question 18: Write a function to remove all vowels from a string."
      ],
      "metadata": {
        "id": "PoMzQeOXQFfH"
      }
    },
    {
      "cell_type": "code",
      "source": [
        "def vowel_remove(str):\n",
        "  for i in str.lower() :\n",
        "    if i in [\"a\",\"e\",\"i\",\"o\",\"u\"]:\n",
        "\n",
        "      str =str.replace(i,\"\")\n",
        "  return str"
      ],
      "metadata": {
        "id": "Z1Dulu_vY739"
      },
      "execution_count": 136,
      "outputs": []
    },
    {
      "cell_type": "markdown",
      "source": [
        "Question 19: Write a function to check if a number is a power of two."
      ],
      "metadata": {
        "id": "rrcdCx3YbIHp"
      }
    },
    {
      "cell_type": "code",
      "source": [
        "def is_power_of_two(n):\n",
        "  for i in range(int(n/2)+1):\n",
        "    if 2**i==n :\n",
        "      return True"
      ],
      "metadata": {
        "id": "R0PjPBqqY7zl"
      },
      "execution_count": 166,
      "outputs": []
    },
    {
      "cell_type": "markdown",
      "source": [
        " Write a function to find the median of a list of numbers"
      ],
      "metadata": {
        "id": "A0S6KMUWeyzO"
      }
    },
    {
      "cell_type": "code",
      "source": [
        "def median_finder(l):\n",
        "\n",
        "  if len(l)%2==0:\n",
        "   return  (l[int(len(l)/2)-1] + l[int(len(l)/2)])/2\n",
        "  else:\n",
        "    return l[int((len(l)+1)/2)-1]"
      ],
      "metadata": {
        "id": "UCfZFly2cnRW"
      },
      "execution_count": 45,
      "outputs": []
    },
    {
      "cell_type": "code",
      "source": [
        "median_finder([1,2,3,4,5])"
      ],
      "metadata": {
        "colab": {
          "base_uri": "https://localhost:8080/"
        },
        "id": "1uL_wuiihA3x",
        "outputId": "736b8509-8455-4268-d460-135fc600a691"
      },
      "execution_count": 46,
      "outputs": [
        {
          "output_type": "execute_result",
          "data": {
            "text/plain": [
              "3"
            ]
          },
          "metadata": {},
          "execution_count": 46
        }
      ]
    },
    {
      "cell_type": "code",
      "source": [],
      "metadata": {
        "id": "c7UgBfzkhKEY"
      },
      "execution_count": null,
      "outputs": []
    }
  ]
}